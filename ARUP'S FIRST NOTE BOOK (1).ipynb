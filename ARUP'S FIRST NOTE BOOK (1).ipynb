{
 "cells": [
  {
   "cell_type": "code",
   "execution_count": 1,
   "id": "95fdcff0",
   "metadata": {},
   "outputs": [
    {
     "name": "stdout",
     "output_type": "stream",
     "text": [
      "Hello world!\n"
     ]
    }
   ],
   "source": [
    "print(\"Hello world!\")"
   ]
  },
  {
   "cell_type": "code",
   "execution_count": 2,
   "id": "d0d59fcb",
   "metadata": {},
   "outputs": [
    {
     "name": "stdout",
     "output_type": "stream",
     "text": [
      "Hello\n"
     ]
    }
   ],
   "source": [
    "print(\"Hello\")"
   ]
  },
  {
   "cell_type": "code",
   "execution_count": 3,
   "id": "2a6de56f",
   "metadata": {},
   "outputs": [
    {
     "name": "stdout",
     "output_type": "stream",
     "text": [
      "Hi all! How are you guyz?\n"
     ]
    }
   ],
   "source": [
    "print(\"Hi all! How are you guyz?\")"
   ]
  },
  {
   "cell_type": "code",
   "execution_count": 4,
   "id": "a2c6b05c",
   "metadata": {},
   "outputs": [
    {
     "name": "stdout",
     "output_type": "stream",
     "text": [
      "this time i am using single quote\n"
     ]
    }
   ],
   "source": [
    "print(\"this time i am using single quote\")"
   ]
  },
  {
   "cell_type": "code",
   "execution_count": 5,
   "id": "a412d5c7",
   "metadata": {},
   "outputs": [
    {
     "name": "stdout",
     "output_type": "stream",
     "text": [
      "hello friends\n"
     ]
    }
   ],
   "source": [
    "print('hello friends')"
   ]
  },
  {
   "cell_type": "code",
   "execution_count": 6,
   "id": "e86704c6",
   "metadata": {},
   "outputs": [],
   "source": [
    "hello=1+2"
   ]
  },
  {
   "cell_type": "code",
   "execution_count": 7,
   "id": "cb8e6e00",
   "metadata": {},
   "outputs": [
    {
     "name": "stdout",
     "output_type": "stream",
     "text": [
      "3\n"
     ]
    }
   ],
   "source": [
    "print(hello)"
   ]
  },
  {
   "cell_type": "code",
   "execution_count": 8,
   "id": "e508c9df",
   "metadata": {},
   "outputs": [],
   "source": [
    "x=45\n",
    "y=10\n",
    "z=x+y"
   ]
  },
  {
   "cell_type": "code",
   "execution_count": 9,
   "id": "f6071da9",
   "metadata": {},
   "outputs": [
    {
     "data": {
      "text/plain": [
       "55"
      ]
     },
     "execution_count": 9,
     "metadata": {},
     "output_type": "execute_result"
    }
   ],
   "source": [
    "z"
   ]
  },
  {
   "cell_type": "code",
   "execution_count": 10,
   "id": "d4e9592a",
   "metadata": {},
   "outputs": [
    {
     "name": "stdout",
     "output_type": "stream",
     "text": [
      "z= 55\n"
     ]
    }
   ],
   "source": [
    "print(\"z=\",z)"
   ]
  },
  {
   "cell_type": "code",
   "execution_count": 11,
   "id": "80064964",
   "metadata": {},
   "outputs": [
    {
     "name": "stdout",
     "output_type": "stream",
     "text": [
      "45\n"
     ]
    }
   ],
   "source": [
    "print(x)"
   ]
  },
  {
   "cell_type": "code",
   "execution_count": 12,
   "id": "f1a07cde",
   "metadata": {},
   "outputs": [],
   "source": [
    "l=x%y"
   ]
  },
  {
   "cell_type": "code",
   "execution_count": 13,
   "id": "dbf46387",
   "metadata": {},
   "outputs": [
    {
     "data": {
      "text/plain": [
       "5"
      ]
     },
     "execution_count": 13,
     "metadata": {},
     "output_type": "execute_result"
    }
   ],
   "source": [
    "l"
   ]
  },
  {
   "cell_type": "code",
   "execution_count": 14,
   "id": "1100e0bf",
   "metadata": {},
   "outputs": [
    {
     "name": "stdout",
     "output_type": "stream",
     "text": [
      "10\n"
     ]
    }
   ],
   "source": [
    "print(y)"
   ]
  },
  {
   "cell_type": "code",
   "execution_count": 15,
   "id": "1484179a",
   "metadata": {},
   "outputs": [
    {
     "name": "stdout",
     "output_type": "stream",
     "text": [
      "55\n"
     ]
    }
   ],
   "source": [
    "print(x+y)"
   ]
  },
  {
   "cell_type": "code",
   "execution_count": 16,
   "id": "e9c33360",
   "metadata": {},
   "outputs": [
    {
     "name": "stdout",
     "output_type": "stream",
     "text": [
      "c 0.5555555555555556\n"
     ]
    }
   ],
   "source": [
    "a=5\n",
    "b=9\n",
    "c=a/b\n",
    "print(\"c\",c)"
   ]
  },
  {
   "cell_type": "code",
   "execution_count": 17,
   "id": "ae308971",
   "metadata": {},
   "outputs": [],
   "source": [
    "a=50\n",
    "b=10\n",
    "z=a*b"
   ]
  },
  {
   "cell_type": "code",
   "execution_count": 18,
   "id": "ea824fcf",
   "metadata": {},
   "outputs": [
    {
     "name": "stdout",
     "output_type": "stream",
     "text": [
      "z 500\n"
     ]
    }
   ],
   "source": [
    "print(\"z\",z)"
   ]
  },
  {
   "cell_type": "code",
   "execution_count": 19,
   "id": "0e50f6a6",
   "metadata": {},
   "outputs": [],
   "source": [
    "s=a//b"
   ]
  },
  {
   "cell_type": "code",
   "execution_count": 20,
   "id": "2d649867",
   "metadata": {},
   "outputs": [
    {
     "data": {
      "text/plain": [
       "5"
      ]
     },
     "execution_count": 20,
     "metadata": {},
     "output_type": "execute_result"
    }
   ],
   "source": [
    "s"
   ]
  },
  {
   "cell_type": "code",
   "execution_count": 21,
   "id": "ca798afb",
   "metadata": {},
   "outputs": [],
   "source": [
    "w=34\n",
    "e=45\n",
    "z=w+e"
   ]
  },
  {
   "cell_type": "code",
   "execution_count": 22,
   "id": "425ff0c2",
   "metadata": {},
   "outputs": [
    {
     "name": "stdout",
     "output_type": "stream",
     "text": [
      "value of z    79\n"
     ]
    }
   ],
   "source": [
    "print(\"value of z   \",z)"
   ]
  },
  {
   "cell_type": "code",
   "execution_count": 23,
   "id": "e80ec0f6",
   "metadata": {},
   "outputs": [
    {
     "data": {
      "text/plain": [
       "'a5b'"
      ]
     },
     "execution_count": 23,
     "metadata": {},
     "output_type": "execute_result"
    }
   ],
   "source": [
    "'a'+str(5)+'b'"
   ]
  },
  {
   "cell_type": "code",
   "execution_count": 24,
   "id": "e27a89b7",
   "metadata": {},
   "outputs": [],
   "source": [
    "my_list=[1,3,'a']"
   ]
  },
  {
   "cell_type": "code",
   "execution_count": 25,
   "id": "8d847398",
   "metadata": {},
   "outputs": [
    {
     "name": "stdout",
     "output_type": "stream",
     "text": [
      "[1, 3, 'a']\n"
     ]
    }
   ],
   "source": [
    "print(my_list)"
   ]
  },
  {
   "cell_type": "code",
   "execution_count": 26,
   "id": "8160a729",
   "metadata": {},
   "outputs": [
    {
     "data": {
      "text/plain": [
       "list"
      ]
     },
     "execution_count": 26,
     "metadata": {},
     "output_type": "execute_result"
    }
   ],
   "source": [
    "type(my_list)"
   ]
  },
  {
   "cell_type": "code",
   "execution_count": 28,
   "id": "9c9bacec",
   "metadata": {},
   "outputs": [
    {
     "name": "stdout",
     "output_type": "stream",
     "text": [
      "the value of w and e are 34 & 45 respectively\n"
     ]
    }
   ],
   "source": [
    "print(\"the value of w and e are\",w,\"&\",e,\"respectively\")"
   ]
  },
  {
   "cell_type": "code",
   "execution_count": 29,
   "id": "8b500669",
   "metadata": {},
   "outputs": [
    {
     "name": "stdout",
     "output_type": "stream",
     "text": [
      "multiplication of x and y is 50\n"
     ]
    }
   ],
   "source": [
    "x=10\n",
    "y=5\n",
    "print(\"multiplication of x and y is\",x*y)"
   ]
  },
  {
   "cell_type": "code",
   "execution_count": 30,
   "id": "d9646dbf",
   "metadata": {},
   "outputs": [
    {
     "name": "stdout",
     "output_type": "stream",
     "text": [
      "c= 4368\n"
     ]
    }
   ],
   "source": [
    "a=56\n",
    "b=78\n",
    "c=a*b\n",
    "print(\"c=\",c)"
   ]
  },
  {
   "cell_type": "code",
   "execution_count": 31,
   "id": "12e87a99",
   "metadata": {},
   "outputs": [
    {
     "data": {
      "text/plain": [
       "(1, 3, 'a')"
      ]
     },
     "execution_count": 31,
     "metadata": {},
     "output_type": "execute_result"
    }
   ],
   "source": [
    "tuple(my_list)"
   ]
  },
  {
   "cell_type": "code",
   "execution_count": 32,
   "id": "4cd3a1ff",
   "metadata": {},
   "outputs": [
    {
     "ename": "TypeError",
     "evalue": "object of type 'int' has no len()",
     "output_type": "error",
     "traceback": [
      "\u001b[1;31m---------------------------------------------------------------------------\u001b[0m",
      "\u001b[1;31mTypeError\u001b[0m                                 Traceback (most recent call last)",
      "Input \u001b[1;32mIn [32]\u001b[0m, in \u001b[0;36m<cell line: 1>\u001b[1;34m()\u001b[0m\n\u001b[1;32m----> 1\u001b[0m \u001b[38;5;28;43mlen\u001b[39;49m\u001b[43m(\u001b[49m\u001b[38;5;241;43m1234\u001b[39;49m\u001b[43m)\u001b[49m\n",
      "\u001b[1;31mTypeError\u001b[0m: object of type 'int' has no len()"
     ]
    }
   ],
   "source": [
    "len(1234)"
   ]
  },
  {
   "cell_type": "code",
   "execution_count": 33,
   "id": "7ada458b",
   "metadata": {},
   "outputs": [
    {
     "data": {
      "text/plain": [
       "3"
      ]
     },
     "execution_count": 33,
     "metadata": {},
     "output_type": "execute_result"
    }
   ],
   "source": [
    "len(my_list)"
   ]
  },
  {
   "cell_type": "code",
   "execution_count": 34,
   "id": "a49a7f01",
   "metadata": {},
   "outputs": [
    {
     "data": {
      "text/plain": [
       "list"
      ]
     },
     "execution_count": 34,
     "metadata": {},
     "output_type": "execute_result"
    }
   ],
   "source": [
    "type(my_list)"
   ]
  },
  {
   "cell_type": "code",
   "execution_count": 35,
   "id": "3efd6aea",
   "metadata": {},
   "outputs": [
    {
     "data": {
      "text/plain": [
       "(1, 3, 'a')"
      ]
     },
     "execution_count": 35,
     "metadata": {},
     "output_type": "execute_result"
    }
   ],
   "source": [
    "tuple(my_list)"
   ]
  },
  {
   "cell_type": "code",
   "execution_count": 36,
   "id": "87176d0d",
   "metadata": {},
   "outputs": [],
   "source": [
    "arup=[1,7,9.0,'a']"
   ]
  },
  {
   "cell_type": "code",
   "execution_count": 37,
   "id": "b1beb0a7",
   "metadata": {},
   "outputs": [],
   "source": [
    "arup.append(4)"
   ]
  },
  {
   "cell_type": "code",
   "execution_count": 38,
   "id": "d73f5619",
   "metadata": {},
   "outputs": [
    {
     "data": {
      "text/plain": [
       "[1, 7, 9.0, 'a', 4]"
      ]
     },
     "execution_count": 38,
     "metadata": {},
     "output_type": "execute_result"
    }
   ],
   "source": [
    "arup"
   ]
  },
  {
   "cell_type": "code",
   "execution_count": 39,
   "id": "8e220802",
   "metadata": {},
   "outputs": [
    {
     "ename": "NameError",
     "evalue": "name 'num1' is not defined",
     "output_type": "error",
     "traceback": [
      "\u001b[1;31m---------------------------------------------------------------------------\u001b[0m",
      "\u001b[1;31mNameError\u001b[0m                                 Traceback (most recent call last)",
      "Input \u001b[1;32mIn [39]\u001b[0m, in \u001b[0;36m<cell line: 3>\u001b[1;34m()\u001b[0m\n\u001b[0;32m      1\u001b[0m \u001b[38;5;28;01mdef\u001b[39;00m \u001b[38;5;21madd_num\u001b[39m(\u001b[38;5;241m*\u001b[39margs):\n\u001b[0;32m      2\u001b[0m     \u001b[38;5;28;01mreturn\u001b[39;00m num1\u001b[38;5;241m+\u001b[39mnum2\n\u001b[1;32m----> 3\u001b[0m \u001b[43madd_num\u001b[49m\u001b[43m(\u001b[49m\u001b[38;5;241;43m12\u001b[39;49m\u001b[43m,\u001b[49m\u001b[38;5;241;43m34\u001b[39;49m\u001b[43m)\u001b[49m\n\u001b[0;32m      4\u001b[0m \u001b[38;5;28mprint\u001b[39m(\u001b[38;5;124m\"\u001b[39m\u001b[38;5;124mResult is \u001b[39m\u001b[38;5;124m\"\u001b[39m,add_num)\n",
      "Input \u001b[1;32mIn [39]\u001b[0m, in \u001b[0;36madd_num\u001b[1;34m(*args)\u001b[0m\n\u001b[0;32m      1\u001b[0m \u001b[38;5;28;01mdef\u001b[39;00m \u001b[38;5;21madd_num\u001b[39m(\u001b[38;5;241m*\u001b[39margs):\n\u001b[1;32m----> 2\u001b[0m     \u001b[38;5;28;01mreturn\u001b[39;00m \u001b[43mnum1\u001b[49m\u001b[38;5;241m+\u001b[39mnum2\n",
      "\u001b[1;31mNameError\u001b[0m: name 'num1' is not defined"
     ]
    }
   ],
   "source": [
    "def add_num(*args):\n",
    "    return num1+num2\n",
    "add_num(12,34)\n",
    "print(\"Result is \",add_num)"
   ]
  },
  {
   "cell_type": "code",
   "execution_count": 40,
   "id": "7061de4e",
   "metadata": {},
   "outputs": [
    {
     "data": {
      "text/plain": [
       "(12, 34, 12, 34)"
      ]
     },
     "execution_count": 40,
     "metadata": {},
     "output_type": "execute_result"
    }
   ],
   "source": [
    "def add_num(*args):\n",
    "    return args+args\n",
    "add_num(12,34)"
   ]
  },
  {
   "cell_type": "code",
   "execution_count": 41,
   "id": "f2903ec8",
   "metadata": {},
   "outputs": [
    {
     "data": {
      "text/plain": [
       "180"
      ]
     },
     "execution_count": 41,
     "metadata": {},
     "output_type": "execute_result"
    }
   ],
   "source": [
    "def arup(num1,num2):\n",
    "    return num1+num2\n",
    "arup(90,90)"
   ]
  },
  {
   "cell_type": "code",
   "execution_count": 48,
   "id": "06e48321",
   "metadata": {},
   "outputs": [
    {
     "ename": "TypeError",
     "evalue": "can only concatenate str (not \"int\") to str",
     "output_type": "error",
     "traceback": [
      "\u001b[1;31m---------------------------------------------------------------------------\u001b[0m",
      "\u001b[1;31mTypeError\u001b[0m                                 Traceback (most recent call last)",
      "Input \u001b[1;32mIn [48]\u001b[0m, in \u001b[0;36m<cell line: 4>\u001b[1;34m()\u001b[0m\n\u001b[0;32m      2\u001b[0m     z\u001b[38;5;241m=\u001b[39m\u001b[38;5;28mstr\u001b[39m(num1)\u001b[38;5;241m+\u001b[39mnum2\u001b[38;5;241m+\u001b[39mnum3    \n\u001b[0;32m      3\u001b[0m     \u001b[38;5;28;01mreturn\u001b[39;00m z\n\u001b[1;32m----> 4\u001b[0m \u001b[43marup\u001b[49m\u001b[43m(\u001b[49m\u001b[38;5;241;43m1\u001b[39;49m\u001b[43m,\u001b[49m\u001b[38;5;241;43m2\u001b[39;49m\u001b[43m,\u001b[49m\u001b[38;5;241;43m3\u001b[39;49m\u001b[43m)\u001b[49m\n",
      "Input \u001b[1;32mIn [48]\u001b[0m, in \u001b[0;36marup\u001b[1;34m(num1, num2, num3)\u001b[0m\n\u001b[0;32m      1\u001b[0m \u001b[38;5;28;01mdef\u001b[39;00m \u001b[38;5;21marup\u001b[39m(num1,num2,num3):\n\u001b[1;32m----> 2\u001b[0m     z\u001b[38;5;241m=\u001b[39m\u001b[38;5;28;43mstr\u001b[39;49m\u001b[43m(\u001b[49m\u001b[43mnum1\u001b[49m\u001b[43m)\u001b[49m\u001b[38;5;241;43m+\u001b[39;49m\u001b[43mnum2\u001b[49m\u001b[38;5;241m+\u001b[39mnum3    \n\u001b[0;32m      3\u001b[0m     \u001b[38;5;28;01mreturn\u001b[39;00m z\n",
      "\u001b[1;31mTypeError\u001b[0m: can only concatenate str (not \"int\") to str"
     ]
    }
   ],
   "source": [
    "def arup(num1,num2,num3):\n",
    "    z=str(num1)+num2+num3    \n",
    "    return z\n",
    "arup(1,2,3)"
   ]
  },
  {
   "cell_type": "code",
   "execution_count": 1,
   "id": "f7fe2bcc",
   "metadata": {},
   "outputs": [
    {
     "name": "stdout",
     "output_type": "stream",
     "text": [
      "The value of c =  18\n"
     ]
    }
   ],
   "source": [
    "a=9\n",
    "b=9\n",
    "c=a+b\n",
    "print('The value of c = ',c)"
   ]
  },
  {
   "cell_type": "code",
   "execution_count": 2,
   "id": "abc26b6b",
   "metadata": {},
   "outputs": [
    {
     "name": "stdout",
     "output_type": "stream",
     "text": [
      "a= 9 b= 9 c= 18\n"
     ]
    }
   ],
   "source": [
    "print('a=',a,'b=',b,'c=',c)"
   ]
  },
  {
   "cell_type": "code",
   "execution_count": 24,
   "id": "424be9f5",
   "metadata": {},
   "outputs": [
    {
     "name": "stdout",
     "output_type": "stream",
     "text": [
      "Alas Arup you have failed\n"
     ]
    }
   ],
   "source": [
    "def arup(x,y,z):\n",
    "    a=x+y+z\n",
    "    #return a\n",
    "    if a<50:\n",
    "        print('CONGRATS Arup!,you have scored 90')\n",
    "    else:\n",
    "        print('Alas Arup you have failed')\n",
    "arup(23,2,400)\n"
   ]
  },
  {
   "cell_type": "code",
   "execution_count": 15,
   "id": "41c6543f",
   "metadata": {},
   "outputs": [
    {
     "data": {
      "text/plain": [
       "179"
      ]
     },
     "execution_count": 15,
     "metadata": {},
     "output_type": "execute_result"
    }
   ],
   "source": [
    "arup(45,56,78)"
   ]
  },
  {
   "cell_type": "code",
   "execution_count": 29,
   "id": "46291aba",
   "metadata": {},
   "outputs": [
    {
     "name": "stdout",
     "output_type": "stream",
     "text": [
      "Alas Arup you have failed\n"
     ]
    }
   ],
   "source": [
    "def arup(a,b,c):\n",
    "    z=str(a)+str(b)+c\n",
    "    t=(z)\n",
    "    len(t)\n",
    "    #return z\n",
    "    if len(t)<3:\n",
    "        print('CONGRATS Arup!,you have scored 90')\n",
    "    else:\n",
    "        print('Alas Arup you have failed')\n",
    "arup(23,2,'a')"
   ]
  },
  {
   "cell_type": "code",
   "execution_count": 30,
   "id": "004ccbf6",
   "metadata": {},
   "outputs": [
    {
     "ename": "SyntaxError",
     "evalue": "invalid syntax (4108373834.py, line 1)",
     "output_type": "error",
     "traceback": [
      "\u001b[1;36m  Input \u001b[1;32mIn [30]\u001b[1;36m\u001b[0m\n\u001b[1;33m    1+2+3+....+100\u001b[0m\n\u001b[1;37m              ^\u001b[0m\n\u001b[1;31mSyntaxError\u001b[0m\u001b[1;31m:\u001b[0m invalid syntax\n"
     ]
    }
   ],
   "source": []
  },
  {
   "cell_type": "code",
   "execution_count": 32,
   "id": "69809370",
   "metadata": {},
   "outputs": [
    {
     "name": "stdout",
     "output_type": "stream",
     "text": [
      "5050\n"
     ]
    }
   ],
   "source": [
    "esa=0\n",
    "for arup in range(1,101):\n",
    "    esa+=arup\n",
    "print(esa)"
   ]
  },
  {
   "cell_type": "code",
   "execution_count": 4,
   "id": "d468b998",
   "metadata": {},
   "outputs": [],
   "source": [
    "x=6\n",
    "y=9\n",
    "z=(x+y)**2"
   ]
  },
  {
   "cell_type": "code",
   "execution_count": 5,
   "id": "b55fe366",
   "metadata": {},
   "outputs": [
    {
     "data": {
      "text/plain": [
       "225"
      ]
     },
     "execution_count": 5,
     "metadata": {},
     "output_type": "execute_result"
    }
   ],
   "source": [
    "z"
   ]
  },
  {
   "cell_type": "code",
   "execution_count": 1,
   "id": "f54a52fb",
   "metadata": {},
   "outputs": [],
   "source": [
    "movies=['Belashuru','Nayika','Cream','My name is khan']"
   ]
  },
  {
   "cell_type": "code",
   "execution_count": 2,
   "id": "7668d187",
   "metadata": {},
   "outputs": [
    {
     "name": "stdout",
     "output_type": "stream",
     "text": [
      "Nayika\n"
     ]
    }
   ],
   "source": [
    "print(movies[1])"
   ]
  },
  {
   "cell_type": "code",
   "execution_count": 3,
   "id": "16ea3f8f",
   "metadata": {},
   "outputs": [],
   "source": [
    "movies.insert(2,'K3G')"
   ]
  },
  {
   "cell_type": "code",
   "execution_count": 4,
   "id": "c88bcbe5",
   "metadata": {},
   "outputs": [
    {
     "data": {
      "text/plain": [
       "['Belashuru', 'Nayika', 'K3G', 'Cream', 'My name is khan']"
      ]
     },
     "execution_count": 4,
     "metadata": {},
     "output_type": "execute_result"
    }
   ],
   "source": [
    "movies"
   ]
  },
  {
   "cell_type": "code",
   "execution_count": 6,
   "id": "13146789",
   "metadata": {},
   "outputs": [
    {
     "name": "stdout",
     "output_type": "stream",
     "text": [
      "5050\n"
     ]
    }
   ],
   "source": [
    "arup=0 # initiate\n",
    "for next_number in range(1,101):\n",
    "    arup+=next_number\n",
    "print(arup)"
   ]
  },
  {
   "cell_type": "code",
   "execution_count": 7,
   "id": "09e13e95",
   "metadata": {},
   "outputs": [
    {
     "name": "stdout",
     "output_type": "stream",
     "text": [
      "5050\n"
     ]
    }
   ],
   "source": [
    "number=0\n",
    "for next_number in range(1,101):\n",
    "    number=number+next_number\n",
    "print(number)"
   ]
  },
  {
   "cell_type": "code",
   "execution_count": 5,
   "id": "b8a2d909",
   "metadata": {},
   "outputs": [
    {
     "name": "stdout",
     "output_type": "stream",
     "text": [
      "25502500.0\n"
     ]
    }
   ],
   "source": [
    "n=100\n",
    "c=(n*(n+1)/2)**2\n",
    "print(c)"
   ]
  },
  {
   "cell_type": "code",
   "execution_count": 2,
   "id": "e81d2921",
   "metadata": {},
   "outputs": [
    {
     "name": "stdout",
     "output_type": "stream",
     "text": [
      "2870\n"
     ]
    }
   ],
   "source": [
    "number=0\n",
    "for next_number in range(1,21):\n",
    "    number=number+next_number**2\n",
    "print(number)\n",
    "  \n",
    "   \n",
    "\n",
    "\n"
   ]
  },
  {
   "cell_type": "code",
   "execution_count": 1,
   "id": "43b3bc41",
   "metadata": {},
   "outputs": [
    {
     "name": "stdout",
     "output_type": "stream",
     "text": [
      "338350\n"
     ]
    }
   ],
   "source": [
    "num=0\n",
    "for numb in range(1,101):\n",
    "    num=num+numb**2\n",
    "print(num)"
   ]
  },
  {
   "cell_type": "code",
   "execution_count": 3,
   "id": "809f2324",
   "metadata": {},
   "outputs": [
    {
     "data": {
      "text/plain": [
       "338350"
      ]
     },
     "execution_count": 3,
     "metadata": {},
     "output_type": "execute_result"
    }
   ],
   "source": [
    "def numb(n):\n",
    "    num=0\n",
    "    for i in range(1,n+1):\n",
    "        num=num+i**2\n",
    "    return num\n",
    "numb(100)\n"
   ]
  },
  {
   "cell_type": "code",
   "execution_count": 10,
   "id": "a6d2c228",
   "metadata": {},
   "outputs": [
    {
     "data": {
      "text/plain": [
       "36"
      ]
     },
     "execution_count": 10,
     "metadata": {},
     "output_type": "execute_result"
    }
   ],
   "source": [
    "# sum of cube\n",
    "def cube(n):\n",
    "    x=0\n",
    "    for i in range(1,n+1):\n",
    "        x=x+i**3\n",
    "    return x\n",
    "    print('The sum of cube of first three natural number is ',n)\n",
    "cube(3)\n"
   ]
  },
  {
   "cell_type": "code",
   "execution_count": 9,
   "id": "f9b3cdd1",
   "metadata": {},
   "outputs": [
    {
     "name": "stdout",
     "output_type": "stream",
     "text": [
      "hello arup\n"
     ]
    }
   ],
   "source": [
    "def arup(name):\n",
    "    print('hello',name)\n",
    "arup('arup')"
   ]
  },
  {
   "cell_type": "code",
   "execution_count": 8,
   "id": "ca4ddb88",
   "metadata": {},
   "outputs": [
    {
     "data": {
      "text/plain": [
       "36"
      ]
     },
     "execution_count": 8,
     "metadata": {},
     "output_type": "execute_result"
    }
   ],
   "source": [
    "def numb(n):\n",
    "    num=0\n",
    "    for next_num in range(1,n+1):\n",
    "        num=num+next_num**3\n",
    "    return(num)\n",
    "numb(3)"
   ]
  },
  {
   "cell_type": "code",
   "execution_count": 9,
   "id": "ca7a80d2",
   "metadata": {},
   "outputs": [
    {
     "data": {
      "text/plain": [
       "14"
      ]
     },
     "execution_count": 9,
     "metadata": {},
     "output_type": "execute_result"
    }
   ],
   "source": [
    "def numb(n):\n",
    "    num=0\n",
    "    for i in range(1,n+1):\n",
    "        num=num+i**2\n",
    "    return(num)\n",
    "numb(3)"
   ]
  },
  {
   "cell_type": "code",
   "execution_count": 10,
   "id": "66c6efdc",
   "metadata": {},
   "outputs": [
    {
     "name": "stdout",
     "output_type": "stream",
     "text": [
      "The value of z 106\n"
     ]
    }
   ],
   "source": [
    "x=5\n",
    "y=9\n",
    "z=x**2+y**2\n",
    "print('The value of z',z)"
   ]
  },
  {
   "cell_type": "code",
   "execution_count": 2,
   "id": "d372e143",
   "metadata": {},
   "outputs": [
    {
     "name": "stdout",
     "output_type": "stream",
     "text": [
      "[1, 2, 3]\n"
     ]
    }
   ],
   "source": [
    "l=[1,2,3]\n",
    "print(l)"
   ]
  },
  {
   "cell_type": "code",
   "execution_count": 1,
   "id": "583e7298",
   "metadata": {},
   "outputs": [],
   "source": [
    "list=[1,2,[3,4]]"
   ]
  },
  {
   "cell_type": "code",
   "execution_count": 2,
   "id": "f8b7a5ca",
   "metadata": {},
   "outputs": [
    {
     "data": {
      "text/plain": [
       "[1, 2, [3, 4]]"
      ]
     },
     "execution_count": 2,
     "metadata": {},
     "output_type": "execute_result"
    }
   ],
   "source": [
    "list"
   ]
  },
  {
   "cell_type": "code",
   "execution_count": 3,
   "id": "50d07ea8",
   "metadata": {},
   "outputs": [
    {
     "data": {
      "text/plain": [
       "36"
      ]
     },
     "execution_count": 3,
     "metadata": {},
     "output_type": "execute_result"
    }
   ],
   "source": [
    "def numb(n):\n",
    "    num=0\n",
    "    for i in range(1,n+1):\n",
    "        num=num+i**3\n",
    "    return num\n",
    "numb(3)\n",
    "    \n",
    "    "
   ]
  },
  {
   "cell_type": "code",
   "execution_count": 4,
   "id": "3989a7cf",
   "metadata": {},
   "outputs": [
    {
     "name": "stdout",
     "output_type": "stream",
     "text": [
      "x\n",
      "y\n",
      "z\n"
     ]
    }
   ],
   "source": [
    "fav_movies=['x','y','z']\n",
    "for i in fav_movies:\n",
    "    print(i)\n"
   ]
  },
  {
   "cell_type": "code",
   "execution_count": 7,
   "id": "29ecc203",
   "metadata": {},
   "outputs": [
    {
     "name": "stdout",
     "output_type": "stream",
     "text": [
      "x\n",
      "y\n",
      "z\n"
     ]
    }
   ],
   "source": [
    "count=0\n",
    "while count<len(fav_movies):\n",
    "    print(fav_movies[count])\n",
    "    count=count+1"
   ]
  },
  {
   "cell_type": "code",
   "execution_count": 10,
   "id": "a400c76a",
   "metadata": {},
   "outputs": [
    {
     "name": "stdout",
     "output_type": "stream",
     "text": [
      "znmd\n",
      "kkkg\n",
      "kgf\n"
     ]
    }
   ],
   "source": [
    "my_fav_movies=['znmd','kkkg','kgf']\n",
    "for i in my_fav_movies:\n",
    "    print(i)"
   ]
  },
  {
   "cell_type": "code",
   "execution_count": 11,
   "id": "c81c7124",
   "metadata": {},
   "outputs": [
    {
     "name": "stdout",
     "output_type": "stream",
     "text": [
      "znmd\n",
      "kkkg\n",
      "kgf\n"
     ]
    }
   ],
   "source": [
    "movies=0\n",
    "while movies<len(my_fav_movies):\n",
    "    print(my_fav_movies[movies])\n",
    "    movies=movies+1"
   ]
  },
  {
   "cell_type": "code",
   "execution_count": 12,
   "id": "d3c3fe2d",
   "metadata": {},
   "outputs": [
    {
     "ename": "NameError",
     "evalue": "name 'split' is not defined",
     "output_type": "error",
     "traceback": [
      "\u001b[1;31m---------------------------------------------------------------------------\u001b[0m",
      "\u001b[1;31mNameError\u001b[0m                                 Traceback (most recent call last)",
      "Input \u001b[1;32mIn [12]\u001b[0m, in \u001b[0;36m<cell line: 1>\u001b[1;34m()\u001b[0m\n\u001b[1;32m----> 1\u001b[0m \u001b[43msplit\u001b[49m(acg)\n",
      "\u001b[1;31mNameError\u001b[0m: name 'split' is not defined"
     ]
    }
   ],
   "source": [
    "split(acg)"
   ]
  },
  {
   "cell_type": "code",
   "execution_count": 1,
   "id": "643fcd7b",
   "metadata": {},
   "outputs": [],
   "source": [
    "movie=['x','a','s','d','f']"
   ]
  },
  {
   "cell_type": "code",
   "execution_count": 2,
   "id": "e8ae96f5",
   "metadata": {},
   "outputs": [
    {
     "data": {
      "text/plain": [
       "'d'"
      ]
     },
     "execution_count": 2,
     "metadata": {},
     "output_type": "execute_result"
    }
   ],
   "source": [
    "movie[3]"
   ]
  },
  {
   "cell_type": "code",
   "execution_count": 3,
   "id": "d9d6f2b9",
   "metadata": {},
   "outputs": [],
   "source": [
    "movie.append(1967)"
   ]
  },
  {
   "cell_type": "code",
   "execution_count": 4,
   "id": "f5cb2206",
   "metadata": {},
   "outputs": [
    {
     "data": {
      "text/plain": [
       "['x', 'a', 's', 'd', 'f', 1967]"
      ]
     },
     "execution_count": 4,
     "metadata": {},
     "output_type": "execute_result"
    }
   ],
   "source": [
    "movie"
   ]
  },
  {
   "cell_type": "code",
   "execution_count": 5,
   "id": "849b3475",
   "metadata": {},
   "outputs": [],
   "source": [
    "movie.insert(2,1977)"
   ]
  },
  {
   "cell_type": "code",
   "execution_count": 6,
   "id": "a8788814",
   "metadata": {},
   "outputs": [
    {
     "data": {
      "text/plain": [
       "['x', 'a', 1977, 's', 'd', 'f', 1967]"
      ]
     },
     "execution_count": 6,
     "metadata": {},
     "output_type": "execute_result"
    }
   ],
   "source": [
    "movie"
   ]
  },
  {
   "cell_type": "code",
   "execution_count": 7,
   "id": "4d2f7ce4",
   "metadata": {},
   "outputs": [],
   "source": [
    "movie.insert(1,1987)"
   ]
  },
  {
   "cell_type": "code",
   "execution_count": 8,
   "id": "79ac0df3",
   "metadata": {},
   "outputs": [
    {
     "data": {
      "text/plain": [
       "['x', 1987, 'a', 1977, 's', 'd', 'f', 1967]"
      ]
     },
     "execution_count": 8,
     "metadata": {},
     "output_type": "execute_result"
    }
   ],
   "source": [
    "movie"
   ]
  },
  {
   "cell_type": "code",
   "execution_count": 9,
   "id": "bec91187",
   "metadata": {},
   "outputs": [],
   "source": [
    "movie.insert(5,2022)"
   ]
  },
  {
   "cell_type": "code",
   "execution_count": 10,
   "id": "42c7359a",
   "metadata": {},
   "outputs": [
    {
     "data": {
      "text/plain": [
       "['x', 1987, 'a', 1977, 's', 2022, 'd', 'f', 1967]"
      ]
     },
     "execution_count": 10,
     "metadata": {},
     "output_type": "execute_result"
    }
   ],
   "source": [
    "movie"
   ]
  },
  {
   "cell_type": "code",
   "execution_count": 13,
   "id": "eee1c95f",
   "metadata": {},
   "outputs": [],
   "source": [
    "movie.insert(-2,2000)"
   ]
  },
  {
   "cell_type": "code",
   "execution_count": 14,
   "id": "195436e5",
   "metadata": {},
   "outputs": [
    {
     "data": {
      "text/plain": [
       "['x', 1987, 'a', 1977, 's', 2022, 2000, 'd', 2000, 'f', 1967]"
      ]
     },
     "execution_count": 14,
     "metadata": {},
     "output_type": "execute_result"
    }
   ],
   "source": [
    "movie"
   ]
  },
  {
   "cell_type": "code",
   "execution_count": 16,
   "id": "b478ae61",
   "metadata": {},
   "outputs": [],
   "source": [
    "movie.remove(2000)"
   ]
  },
  {
   "cell_type": "markdown",
   "id": "ffffe912",
   "metadata": {},
   "source": [
    "movie"
   ]
  },
  {
   "cell_type": "code",
   "execution_count": 17,
   "id": "a32e351e",
   "metadata": {},
   "outputs": [
    {
     "data": {
      "text/plain": [
       "['x', 1987, 'a', 1977, 's', 2022, 'd', 2000, 'f', 1967]"
      ]
     },
     "execution_count": 17,
     "metadata": {},
     "output_type": "execute_result"
    }
   ],
   "source": [
    "movie"
   ]
  },
  {
   "cell_type": "code",
   "execution_count": 18,
   "id": "5577c594",
   "metadata": {},
   "outputs": [
    {
     "name": "stdout",
     "output_type": "stream",
     "text": [
      "x\n",
      "1987\n",
      "a\n",
      "1977\n",
      "s\n",
      "2022\n",
      "d\n",
      "2000\n",
      "f\n",
      "1967\n"
     ]
    }
   ],
   "source": [
    "for i in movie:\n",
    "    print(i)"
   ]
  },
  {
   "cell_type": "code",
   "execution_count": 19,
   "id": "1aee725f",
   "metadata": {},
   "outputs": [],
   "source": [
    "my_list=[3,6,9.0,['a','b',[7,'u']]]"
   ]
  },
  {
   "cell_type": "code",
   "execution_count": 20,
   "id": "4a35afdd",
   "metadata": {},
   "outputs": [
    {
     "data": {
      "text/plain": [
       "[3, 6, 9.0, ['a', 'b', [7, 'u']]]"
      ]
     },
     "execution_count": 20,
     "metadata": {},
     "output_type": "execute_result"
    }
   ],
   "source": [
    "my_list"
   ]
  },
  {
   "cell_type": "code",
   "execution_count": 22,
   "id": "01055de5",
   "metadata": {},
   "outputs": [
    {
     "name": "stdout",
     "output_type": "stream",
     "text": [
      "3\n",
      "6\n",
      "9.0\n",
      "['a', 'b', [7, 'u']]\n"
     ]
    }
   ],
   "source": [
    "for i in my_list:\n",
    "    print(i)"
   ]
  },
  {
   "cell_type": "code",
   "execution_count": 23,
   "id": "72fd5014",
   "metadata": {},
   "outputs": [
    {
     "data": {
      "text/plain": [
       "7"
      ]
     },
     "execution_count": 23,
     "metadata": {},
     "output_type": "execute_result"
    }
   ],
   "source": [
    "my_list[3][2][0]"
   ]
  },
  {
   "cell_type": "code",
   "execution_count": 24,
   "id": "356deda4",
   "metadata": {},
   "outputs": [
    {
     "data": {
      "text/plain": [
       "True"
      ]
     },
     "execution_count": 24,
     "metadata": {},
     "output_type": "execute_result"
    }
   ],
   "source": [
    "names=['arup','esa']\n",
    "isinstance(names,list)"
   ]
  },
  {
   "cell_type": "code",
   "execution_count": 25,
   "id": "460d1c91",
   "metadata": {},
   "outputs": [
    {
     "data": {
      "text/plain": [
       "False"
      ]
     },
     "execution_count": 25,
     "metadata": {},
     "output_type": "execute_result"
    }
   ],
   "source": [
    "x=len(names)\n",
    "isinstance(x,list)"
   ]
  },
  {
   "cell_type": "code",
   "execution_count": 26,
   "id": "faae0fdb",
   "metadata": {},
   "outputs": [],
   "source": [
    "my_list=[3,'x',7,[2,6]]\n"
   ]
  },
  {
   "cell_type": "code",
   "execution_count": 27,
   "id": "99d8b2dc",
   "metadata": {},
   "outputs": [
    {
     "data": {
      "text/plain": [
       "[3, 'x', 7, [2, 6]]"
      ]
     },
     "execution_count": 27,
     "metadata": {},
     "output_type": "execute_result"
    }
   ],
   "source": [
    "my_list"
   ]
  },
  {
   "cell_type": "code",
   "execution_count": 28,
   "id": "3f6009b7",
   "metadata": {},
   "outputs": [
    {
     "name": "stdout",
     "output_type": "stream",
     "text": [
      "3\n",
      "x\n",
      "7\n",
      "[2, 6]\n"
     ]
    }
   ],
   "source": [
    "for i in my_list:\n",
    "    print(i)"
   ]
  },
  {
   "cell_type": "code",
   "execution_count": 29,
   "id": "1378c085",
   "metadata": {},
   "outputs": [
    {
     "name": "stdout",
     "output_type": "stream",
     "text": [
      "3\n",
      "x\n",
      "7\n",
      "2\n",
      "6\n"
     ]
    }
   ],
   "source": [
    "for i in my_list:\n",
    "    if isinstance(i,list):\n",
    "        for j in i:\n",
    "            print(j)\n",
    "    else:\n",
    "        print(i)"
   ]
  },
  {
   "cell_type": "code",
   "execution_count": 30,
   "id": "7c91a622",
   "metadata": {},
   "outputs": [],
   "source": [
    "l=[6,7,[8,9]]"
   ]
  },
  {
   "cell_type": "code",
   "execution_count": 31,
   "id": "327ee373",
   "metadata": {},
   "outputs": [
    {
     "data": {
      "text/plain": [
       "[6, 7, [8, 9]]"
      ]
     },
     "execution_count": 31,
     "metadata": {},
     "output_type": "execute_result"
    }
   ],
   "source": [
    "l"
   ]
  },
  {
   "cell_type": "code",
   "execution_count": 32,
   "id": "5efbdd98",
   "metadata": {},
   "outputs": [
    {
     "name": "stdout",
     "output_type": "stream",
     "text": [
      "6\n",
      "7\n",
      "[8, 9]\n"
     ]
    }
   ],
   "source": [
    "for i in l:\n",
    "    print(i)"
   ]
  },
  {
   "cell_type": "code",
   "execution_count": 34,
   "id": "18f2e806",
   "metadata": {},
   "outputs": [
    {
     "name": "stdout",
     "output_type": "stream",
     "text": [
      "HI! 6\n",
      "HI! 7\n",
      "Hello! 8\n",
      "Hello! 9\n"
     ]
    }
   ],
   "source": [
    "for i in l:\n",
    "    if isinstance(i,list):\n",
    "        for j in i:\n",
    "            print('Hello!',j)\n",
    "    else:\n",
    "        print('HI!',i)"
   ]
  },
  {
   "cell_type": "code",
   "execution_count": 43,
   "id": "54f46b87",
   "metadata": {},
   "outputs": [
    {
     "name": "stdout",
     "output_type": "stream",
     "text": [
      "1\n",
      "2\n",
      "3\n",
      "4\n",
      "5\n",
      "6\n"
     ]
    }
   ],
   "source": [
    "my_list=[1,2,[3,4,[5,6]]]\n",
    "for i in my_list:\n",
    "    if isinstance(i,list):\n",
    "        for j in i:\n",
    "            if isinstance(j,list):\n",
    "                for k in j:\n",
    "                    print(k)\n",
    "            else:\n",
    "                print(j)\n",
    "                \n",
    "    else:\n",
    "        print(i)\n",
    "                    "
   ]
  },
  {
   "cell_type": "code",
   "execution_count": 44,
   "id": "89920b80",
   "metadata": {},
   "outputs": [
    {
     "name": "stdout",
     "output_type": "stream",
     "text": [
      "1\n",
      "2\n",
      "3\n",
      "4\n",
      "5\n",
      "arup\n",
      "esa\n"
     ]
    }
   ],
   "source": [
    "my_list=[1,2,[3,4],[5,['arup','esa']]]\n",
    "for i in my_list:\n",
    "    if isinstance(i,list):\n",
    "        for j in i:\n",
    "            if isinstance(j,list):\n",
    "                for k in j:\n",
    "                    print(k)\n",
    "            else:\n",
    "                print(j)\n",
    "                \n",
    "    else:\n",
    "        print(i)"
   ]
  },
  {
   "cell_type": "code",
   "execution_count": 47,
   "id": "4e62e37f",
   "metadata": {},
   "outputs": [],
   "source": [
    "def my_function(the_list):\n",
    "    for i in the_list:\n",
    "        if isinstance(i,list):\n",
    "            my_function(i)\n",
    "        else:\n",
    "            print(i)\n",
    "            "
   ]
  },
  {
   "cell_type": "code",
   "execution_count": 48,
   "id": "385fb4aa",
   "metadata": {},
   "outputs": [
    {
     "name": "stdout",
     "output_type": "stream",
     "text": [
      "1\n",
      "2\n",
      "3\n",
      "4\n",
      "5\n",
      "arup\n",
      "esa\n"
     ]
    }
   ],
   "source": [
    "my_function(my_list)"
   ]
  },
  {
   "cell_type": "code",
   "execution_count": 49,
   "id": "81fc4653",
   "metadata": {},
   "outputs": [
    {
     "data": {
      "text/plain": [
       "4"
      ]
     },
     "execution_count": 49,
     "metadata": {},
     "output_type": "execute_result"
    }
   ],
   "source": [
    "len(my_list)"
   ]
  },
  {
   "cell_type": "code",
   "execution_count": 1,
   "id": "f7939f44",
   "metadata": {},
   "outputs": [],
   "source": [
    "l=[1,2,3,[4,5,[7,'a']]]"
   ]
  },
  {
   "cell_type": "code",
   "execution_count": 2,
   "id": "c87fb4b2",
   "metadata": {},
   "outputs": [
    {
     "name": "stdout",
     "output_type": "stream",
     "text": [
      "1\n",
      "2\n",
      "3\n",
      "[4, 5, [7, 'a']]\n"
     ]
    }
   ],
   "source": [
    "for i in l:\n",
    "    print(i)"
   ]
  },
  {
   "cell_type": "code",
   "execution_count": 4,
   "id": "ae69668a",
   "metadata": {},
   "outputs": [
    {
     "name": "stdout",
     "output_type": "stream",
     "text": [
      "1\n",
      "2\n",
      "3\n",
      "4\n",
      "5\n",
      "7\n",
      "a\n"
     ]
    }
   ],
   "source": [
    "for i in l:\n",
    "    if isinstance(i,list):\n",
    "        for j in i:\n",
    "            if isinstance(j,list):\n",
    "                for k in j:\n",
    "                    print(k)\n",
    "            else:\n",
    "                print(j)\n",
    "            #print(j)\n",
    "    else:\n",
    "        print(i)"
   ]
  },
  {
   "cell_type": "code",
   "execution_count": 5,
   "id": "c60b7a57",
   "metadata": {},
   "outputs": [],
   "source": [
    "def my_function(the_list):\n",
    "    for i in the_list:\n",
    "        if isinstance(i,list):\n",
    "            my_function(i)\n",
    "        else:\n",
    "            print(i)\n",
    "        "
   ]
  },
  {
   "cell_type": "code",
   "execution_count": 6,
   "id": "50da1653",
   "metadata": {},
   "outputs": [
    {
     "name": "stdout",
     "output_type": "stream",
     "text": [
      "1\n",
      "2\n",
      "3\n",
      "4\n",
      "5\n",
      "7\n",
      "a\n"
     ]
    }
   ],
   "source": [
    "my_function(l)"
   ]
  },
  {
   "cell_type": "code",
   "execution_count": 7,
   "id": "65364524",
   "metadata": {},
   "outputs": [
    {
     "name": "stdout",
     "output_type": "stream",
     "text": [
      "The sum of n natural numbers 5050\n"
     ]
    }
   ],
   "source": [
    "num=0\n",
    "for i in range(1,101):\n",
    "    num=num+i\n",
    "print('The sum of n natural numbers',num)"
   ]
  },
  {
   "cell_type": "code",
   "execution_count": 10,
   "id": "a61da4f6",
   "metadata": {},
   "outputs": [
    {
     "data": {
      "text/plain": [
       "5050"
      ]
     },
     "execution_count": 10,
     "metadata": {},
     "output_type": "execute_result"
    }
   ],
   "source": [
    "def my_function(n):\n",
    "    num=0\n",
    "    for i in range(1,n+1):\n",
    "        num=num+i\n",
    "    return(num)\n",
    "my_function(100)"
   ]
  },
  {
   "cell_type": "code",
   "execution_count": 11,
   "id": "f0b51f81",
   "metadata": {},
   "outputs": [
    {
     "name": "stdout",
     "output_type": "stream",
     "text": [
      "I love my wife\n"
     ]
    }
   ],
   "source": [
    "print('I love my wife')"
   ]
  },
  {
   "cell_type": "code",
   "execution_count": null,
   "id": "7c9e0918",
   "metadata": {},
   "outputs": [],
   "source": []
  }
 ],
 "metadata": {
  "kernelspec": {
   "display_name": "Python 3 (ipykernel)",
   "language": "python",
   "name": "python3"
  },
  "language_info": {
   "codemirror_mode": {
    "name": "ipython",
    "version": 3
   },
   "file_extension": ".py",
   "mimetype": "text/x-python",
   "name": "python",
   "nbconvert_exporter": "python",
   "pygments_lexer": "ipython3",
   "version": "3.9.12"
  }
 },
 "nbformat": 4,
 "nbformat_minor": 5
}
